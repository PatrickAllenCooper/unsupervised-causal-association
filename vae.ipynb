{
  "nbformat": 4,
  "nbformat_minor": 0,
  "metadata": {
    "colab": {
      "name": "Untitled0.ipynb",
      "provenance": [],
      "collapsed_sections": [],
      "toc_visible": true,
      "authorship_tag": "ABX9TyPkziOlhNX3yR4Fo6IYOT1q",
      "include_colab_link": true
    },
    "kernelspec": {
      "name": "python3",
      "display_name": "Python 3"
    },
    "language_info": {
      "name": "python"
    }
  },
  "cells": [
    {
      "cell_type": "markdown",
      "metadata": {
        "id": "view-in-github",
        "colab_type": "text"
      },
      "source": [
        "<a href=\"https://colab.research.google.com/github/PatrickAllenCooper/unsupervised-causal-association/blob/main/vae.ipynb\" target=\"_parent\"><img src=\"https://colab.research.google.com/assets/colab-badge.svg\" alt=\"Open In Colab\"/></a>"
      ]
    },
    {
      "cell_type": "markdown",
      "metadata": {
        "id": "AHXe8OrQP8yR"
      },
      "source": [
        "# VAE (Generic Implementation)"
      ]
    },
    {
      "cell_type": "code",
      "metadata": {
        "id": "KhiweP6-RIsg"
      },
      "source": [
        "# we begin with an elementary vae as the baseline\n",
        "from pl_bolts.models.autoencoders import VAE\n",
        "\n",
        "model = VAE()\n",
        "trainer = Trainer()\n",
        "trainer.fit(model)\n",
        "\n",
        "from pl_bolts.modsels.autoencoders import VAE\n",
        "\n",
        "vae = VAE(input_height=32)\n",
        "print(VAE.pretrained_weights_available())\n",
        "vae = vae.from_pretrained('cifar10-resnet18')\n",
        "\n",
        "vae.freeze()"
      ],
      "execution_count": null,
      "outputs": []
    }
  ]
}